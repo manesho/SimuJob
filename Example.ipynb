{
 "cells": [
  {
   "cell_type": "markdown",
   "metadata": {},
   "source": [
    "# SimuJob Example"
   ]
  },
  {
   "cell_type": "code",
   "execution_count": 1,
   "metadata": {},
   "outputs": [],
   "source": [
    "import simujob as sj\n",
    "import numpy as np\n",
    "import matplotlib.pyplot as plt"
   ]
  },
  {
   "cell_type": "markdown",
   "metadata": {},
   "source": [
    "### Configure the cluster\n",
    "make sure you can connect to the cluster via\n",
    "   \n",
    "       ssh username@clustername\n",
    "\n",
    "without password. This might require setting rsa authentification. See for example:\n",
    "https://docs.id.unibe.ch/ubelix/ubelix-101/login-to-the-cluster"
   ]
  },
  {
   "cell_type": "code",
   "execution_count": 2,
   "metadata": {},
   "outputs": [],
   "source": [
    "cluster = sj.Cluster(clustername=\"itpwilson\", username=\"hornung\")"
   ]
  },
  {
   "cell_type": "markdown",
   "metadata": {},
   "source": [
    "### Simulation details\n",
    "\n",
    "Specify the details of your simulation., (if you use SimuJob with the same main executable many times, consider \n",
    "adapting the default settings in SimuJob.py to your needs)\n",
    "\n",
    "In this example we use the examplemain.py, that takes three arguments -x, -y -n, -fileout, and stores (x/y)^n in fileout.\n",
    "and we want to use it to calculate (x/y)^1.5 with x in {0.1,0.2,..., 1} and y in (3,4,5, ... 10 )"
   ]
  },
  {
   "cell_type": "code",
   "execution_count": 8,
   "metadata": {},
   "outputs": [],
   "source": [
    "\n",
    "launchfiletemplate  = \"\"\"#!/bin/bash\n",
    "#$-S /bin/sh\n",
    "#$-cwd\n",
    "#$-t 1-{nmax}\n",
    "{argdefstring}\n",
    "python3 examplenetcdf.py {argstring}\n",
    "\"\"\"\n",
    "# this is the name of the argument, that tells examplemain.py where to store the resulting data\n",
    "fileargname = 'fileout'\n",
    "# if our executable generates 1 or 2 dimensional data, specify the name of the inner dimensions\n",
    "sj.innerdims=()"
   ]
  },
  {
   "cell_type": "markdown",
   "metadata": {},
   "source": [
    "Specify the job details:\n",
    "\n",
    " - folder: the location to store jobfiles and simulation output, is created if it doesent exist and must be\n",
    "    accessible from both, the cluster and the local machine. \n",
    "    \n",
    " - name: name of the job (SGE)\n",
    "\n",
    " - dependencies: a list of paths to files that are copied into folder. In this simple exmaple this is just\n",
    "    examplemain.py. \n",
    "\n",
    " - constargs: a dict of arguments that should be the same for all instances of the job\n",
    " \n",
    " - arrayargs: a dict of argumentname:list, the job will run over all possible combinations of \n",
    "      arguments specifiedhere."
   ]
  },
  {
   "cell_type": "code",
   "execution_count": 9,
   "metadata": {},
   "outputs": [],
   "source": [
    "thejob = sj.MatrixJob(workingcluster=cluster,\n",
    "                      localpath=\"/home/manes/scratch/testsimujob2/\",\n",
    "                      remotepath=\"/scratch1/hornung/testsimujob2/\",\n",
    "                      name=\"x_divided_by_y\",\n",
    "                      dependencies=[\"examplenetcdf.py\"],\n",
    "                     constargs = {'n':1.5},\n",
    "                     arrayargs = {'x':np.arange(0.1,1,0.1), 'y':np.arange(3,10,1)},\n",
    "                     launchfiletemplate= launchfiletemplate,\n",
    "                     fileargname=fileargname)"
   ]
  },
  {
   "cell_type": "code",
   "execution_count": 10,
   "metadata": {},
   "outputs": [
    {
     "data": {
      "text/plain": [
       "'/scratch1/hornung/testsimujob2/x_divided_by_y.sh'"
      ]
     },
     "execution_count": 10,
     "metadata": {},
     "output_type": "execute_result"
    }
   ],
   "source": [
    "thejob.remotejobscriptname"
   ]
  },
  {
   "cell_type": "code",
   "execution_count": 11,
   "metadata": {
    "scrolled": true
   },
   "outputs": [],
   "source": [
    "thejob.create_all_files()"
   ]
  },
  {
   "cell_type": "code",
   "execution_count": 12,
   "metadata": {
    "scrolled": true
   },
   "outputs": [
    {
     "name": "stdout",
     "output_type": "stream",
     "text": [
      "<paramiko.ChannelFile from <paramiko.Channel 0 (open) window=2097152 -> <paramiko.Transport at 0x38295e10 (cipher aes128-ctr, 128 bits) (active; 1 open channel(s))>>>\n"
     ]
    }
   ],
   "source": [
    "thejob.run()"
   ]
  },
  {
   "cell_type": "markdown",
   "metadata": {},
   "source": [
    "### Retrieve the data"
   ]
  },
  {
   "cell_type": "code",
   "execution_count": 14,
   "metadata": {},
   "outputs": [],
   "source": [
    "results = thejob.retrieve_data()"
   ]
  },
  {
   "cell_type": "markdown",
   "metadata": {},
   "source": [
    "Now we have the results as a handy n-dimensional xarray with named dimensions. \n",
    "For postprocessing with another program, we can store the data in a single netcdf file, that can be read\n",
    "by mathematica, matlab, etc"
   ]
  },
  {
   "cell_type": "code",
   "execution_count": null,
   "metadata": {},
   "outputs": [],
   "source": [
    "r.to_netcdf(path='/path/to/save/file.nc')\n"
   ]
  },
  {
   "cell_type": "code",
   "execution_count": 23,
   "metadata": {},
   "outputs": [
    {
     "data": {
      "image/png": "[encoded data removed]",
      "text/plain": [
       "<Figure size 432x288 with 2 Axes>"
      ]
     },
     "metadata": {
      "needs_background": "light"
     },
     "output_type": "display_data"
    },
    {
     "ename": "AttributeError",
     "evalue": "'Dataset' object has no attribute 'plot'",
     "output_type": "error",
     "traceback": [
      "\u001b[0;31m---------------------------------------------------------------------------\u001b[0m",
      "\u001b[0;31mAttributeError\u001b[0m                            Traceback (most recent call last)",
      "\u001b[0;32m<ipython-input-23-cf40c689cf05>\u001b[0m in \u001b[0;36m<module>\u001b[0;34m\u001b[0m\n\u001b[1;32m      1\u001b[0m \u001b[0mresults\u001b[0m\u001b[0;34m[\u001b[0m\u001b[0;34m'obs1'\u001b[0m\u001b[0;34m]\u001b[0m\u001b[0;34m.\u001b[0m\u001b[0msel\u001b[0m\u001b[0;34m(\u001b[0m\u001b[0mi\u001b[0m\u001b[0;34m=\u001b[0m\u001b[0;36m3\u001b[0m\u001b[0;34m)\u001b[0m\u001b[0;34m.\u001b[0m\u001b[0mplot\u001b[0m\u001b[0;34m(\u001b[0m\u001b[0;34m)\u001b[0m\u001b[0;34m\u001b[0m\u001b[0;34m\u001b[0m\u001b[0m\n\u001b[1;32m      2\u001b[0m \u001b[0mplt\u001b[0m\u001b[0;34m.\u001b[0m\u001b[0mshow\u001b[0m\u001b[0;34m(\u001b[0m\u001b[0;34m)\u001b[0m\u001b[0;34m\u001b[0m\u001b[0;34m\u001b[0m\u001b[0m\n\u001b[0;32m----> 3\u001b[0;31m \u001b[0mresults\u001b[0m\u001b[0;34m.\u001b[0m\u001b[0msel\u001b[0m\u001b[0;34m(\u001b[0m\u001b[0my\u001b[0m\u001b[0;34m=\u001b[0m\u001b[0;34m[\u001b[0m\u001b[0;36m4\u001b[0m\u001b[0;34m,\u001b[0m\u001b[0;36m6\u001b[0m\u001b[0;34m]\u001b[0m\u001b[0;34m)\u001b[0m\u001b[0;34m.\u001b[0m\u001b[0mplot\u001b[0m\u001b[0;34m.\u001b[0m\u001b[0mline\u001b[0m\u001b[0;34m(\u001b[0m\u001b[0mx\u001b[0m\u001b[0;34m=\u001b[0m\u001b[0;34m'x'\u001b[0m\u001b[0;34m)\u001b[0m\u001b[0;34m\u001b[0m\u001b[0;34m\u001b[0m\u001b[0m\n\u001b[0m\u001b[1;32m      4\u001b[0m \u001b[0mplt\u001b[0m\u001b[0;34m.\u001b[0m\u001b[0mshow\u001b[0m\u001b[0;34m(\u001b[0m\u001b[0;34m)\u001b[0m\u001b[0;34m\u001b[0m\u001b[0;34m\u001b[0m\u001b[0m\n\u001b[1;32m      5\u001b[0m \u001b[0mprint\u001b[0m\u001b[0;34m(\u001b[0m\u001b[0mresults\u001b[0m\u001b[0;34m)\u001b[0m\u001b[0;34m\u001b[0m\u001b[0;34m\u001b[0m\u001b[0m\n",
      "\u001b[0;32m~/.local/lib/python3.6/site-packages/xarray/core/common.py\u001b[0m in \u001b[0;36m__getattr__\u001b[0;34m(self, name)\u001b[0m\n\u001b[1;32m    177\u001b[0m                     \u001b[0;32mreturn\u001b[0m \u001b[0msource\u001b[0m\u001b[0;34m[\u001b[0m\u001b[0mname\u001b[0m\u001b[0;34m]\u001b[0m\u001b[0;34m\u001b[0m\u001b[0;34m\u001b[0m\u001b[0m\n\u001b[1;32m    178\u001b[0m         raise AttributeError(\"%r object has no attribute %r\" %\n\u001b[0;32m--> 179\u001b[0;31m                              (type(self).__name__, name))\n\u001b[0m\u001b[1;32m    180\u001b[0m \u001b[0;34m\u001b[0m\u001b[0m\n\u001b[1;32m    181\u001b[0m     \u001b[0;32mdef\u001b[0m \u001b[0m__setattr__\u001b[0m\u001b[0;34m(\u001b[0m\u001b[0mself\u001b[0m\u001b[0;34m,\u001b[0m \u001b[0mname\u001b[0m\u001b[0;34m,\u001b[0m \u001b[0mvalue\u001b[0m\u001b[0;34m)\u001b[0m\u001b[0;34m:\u001b[0m\u001b[0;34m\u001b[0m\u001b[0;34m\u001b[0m\u001b[0m\n",
      "\u001b[0;31mAttributeError\u001b[0m: 'Dataset' object has no attribute 'plot'"
     ]
    }
   ],
   "source": [
    "results['obs1'].sel(i=3).plot()\n",
    "plt.show()\n",
    "results.sel(y=[4,6]).plot.line(x='x')\n",
    "plt.show()\n",
    "print(results)"
   ]
  },
  {
   "cell_type": "code",
   "execution_count": 21,
   "metadata": {},
   "outputs": [
    {
     "data": {
      "text/plain": [
       "<xarray.DataArray 'obs1' (i: 12, x: 9, y: 7)>\n",
       "array([[[1.000000e+00, 1.000000e+00, ..., 1.000000e+00, 1.000000e+00],\n",
       "        [1.000000e+00, 1.000000e+00, ..., 1.000000e+00, 1.000000e+00],\n",
       "        ...,\n",
       "        [1.000000e+00, 1.000000e+00, ..., 1.000000e+00, 1.000000e+00],\n",
       "        [1.000000e+00, 1.000000e+00, ..., 1.000000e+00, 1.000000e+00]],\n",
       "\n",
       "       [[6.085806e-03, 3.952847e-03, ..., 1.397542e-03, 1.171214e-03],\n",
       "        [1.721326e-02, 1.118034e-02, ..., 3.952847e-03, 3.312693e-03],\n",
       "        ...,\n",
       "        [1.377061e-01, 8.944272e-02, ..., 3.162278e-02, 2.650155e-02],\n",
       "        [1.643168e-01, 1.067269e-01, ..., 3.773365e-02, 3.162278e-02]],\n",
       "\n",
       "       ...,\n",
       "\n",
       "       [[6.969172e-23, 9.313226e-25, ..., 2.842171e-29, 4.856936e-30],\n",
       "        [2.283658e-18, 3.051758e-20, ..., 9.313226e-25, 1.591521e-25],\n",
       "        ...,\n",
       "        [2.452059e-09, 3.276800e-11, ..., 1.000000e-15, 1.708882e-16],\n",
       "        [1.434891e-08, 1.917511e-10, ..., 5.851778e-15, 1.000000e-15]],\n",
       "\n",
       "       [[4.241303e-25, 3.681376e-27, ..., 3.972055e-32, 5.688511e-33],\n",
       "        [3.930920e-20, 3.411969e-22, ..., 3.681376e-27, 5.272220e-28],\n",
       "        ...,\n",
       "        [3.376635e-10, 2.930859e-12, ..., 3.162278e-17, 4.528802e-18],\n",
       "        [2.357766e-09, 2.046499e-11, ..., 2.208089e-16, 3.162278e-17]]])\n",
       "Coordinates:\n",
       "  * i        (i) int32 0 1 2 3 4 5 6 7 8 9 10 11\n",
       "  * x        (x) float64 0.1 0.2 0.3 0.4 0.5 0.6 0.7 0.8 0.9\n",
       "  * y        (y) int64 3 4 5 6 7 8 9"
      ]
     },
     "execution_count": 21,
     "metadata": {},
     "output_type": "execute_result"
    }
   ],
   "source": [
    "results['obs1']"
   ]
  },
  {
   "cell_type": "code",
   "execution_count": null,
   "metadata": {},
   "outputs": [],
   "source": []
  }
 ],
 "metadata": {
  "hide_input": false,
  "kernelspec": {
   "display_name": "Python 3",
   "language": "python",
   "name": "python3"
  },
  "language_info": {
   "codemirror_mode": {
    "name": "ipython",
    "version": 3
   },
   "file_extension": ".py",
   "mimetype": "text/x-python",
   "name": "python",
   "nbconvert_exporter": "python",
   "pygments_lexer": "ipython3",
   "version": "3.6.7"
  }
 },
 "nbformat": 4,
 "nbformat_minor": 2
}
