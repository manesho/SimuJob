{
 "cells": [
  {
   "cell_type": "markdown",
   "metadata": {},
   "source": [
    "# SimuJob Example"
   ]
  },
  {
   "cell_type": "code",
   "execution_count": 1,
   "metadata": {},
   "outputs": [],
   "source": [
    "import simujob as sj\n",
    "import numpy as np\n",
    "import matplotlib.pyplot as plt"
   ]
  },
  {
   "cell_type": "markdown",
   "metadata": {},
   "source": [
    "### Configure the cluster\n",
    "make sure you can connect to the cluster via\n",
    "   \n",
    "       ssh username@clustername\n",
    "\n",
    "without password. This might require setting rsa authentification. See for example:\n",
    "https://docs.id.unibe.ch/ubelix/ubelix-101/login-to-the-cluster"
   ]
  },
  {
   "cell_type": "code",
   "execution_count": 2,
   "metadata": {},
   "outputs": [],
   "source": [
    "cluster = sj.Cluster(clustername=\"itpwilson\", username=\"hornung\")"
   ]
  },
  {
   "cell_type": "markdown",
   "metadata": {},
   "source": [
    "### Simulation details\n",
    "\n",
    "Specify the details of your simulation., (if you use SimuJob with the same main executable many times, consider \n",
    "adapting the default settings in SimuJob.py to your needs)\n",
    "\n",
    "In this example we use the examplemain.py, that takes three arguments -x, -y -n, -fileout, and stores (x/y)^n in fileout.\n",
    "and we want to use it to calculate (x/y)^1.5 with x in {0.1,0.2,..., 1} and y in (3,4,5, ... 10 )"
   ]
  },
  {
   "cell_type": "code",
   "execution_count": 4,
   "metadata": {},
   "outputs": [],
   "source": [
    "\n",
    "launchfiletemplate  = \"\"\"#!/bin/bash\n",
    "#$-S /bin/sh\n",
    "#$-cwd\n",
    "#$-t 1-{nmax}\n",
    "{argdefstring}\n",
    "python3 examplenetcdf.py {argstring}\n",
    "\"\"\"\n",
    "# this is the name of the argument, that tells examplemain.py where to store the resulting data\n",
    "fileargname = 'fileout'\n",
    "# if our executable generates 1 or 2 dimensional data, specify the name of the inner dimensions\n",
    "sj.innerdims=()"
   ]
  },
  {
   "cell_type": "markdown",
   "metadata": {},
   "source": [
    "Specify the job details:\n",
    "\n",
    " - folder: the location to store jobfiles and simulation output, is created if it doesent exist and must be\n",
    "    accessible from both, the cluster and the local machine. \n",
    "    \n",
    " - name: name of the job (SGE)\n",
    "\n",
    " - dependencies: a list of paths to files that are copied into folder. In this simple exmaple this is just\n",
    "    examplemain.py. \n",
    "\n",
    " - constargs: a dict of arguments that should be the same for all instances of the job\n",
    " \n",
    " - arrayargs: a dict of argumentname:list, the job will run over all possible combinations of \n",
    "      arguments specifiedhere."
   ]
  },
  {
   "cell_type": "code",
   "execution_count": 11,
   "metadata": {},
   "outputs": [],
   "source": [
    "thejob = sj.MatrixJob(workingcluster=cluster,\n",
    "                      localpath=\"/home/manes/scratch1/testsimujobx/\",\n",
    "                      remotepath=\"/scratch1/hornung/testsimujobx/\",\n",
    "                      name=\"x_divided_by_y\",\n",
    "                      dependencies=[\"examplenetcdf.py\"],\n",
    "                     constargs = {'n':1.5},\n",
    "                     arrayargs = {'x':np.arange(0.1,1,0.1), 'y':np.arange(3,10,1)},\n",
    "                     launchfiletemplate= launchfiletemplate,\n",
    "                     fileargname=fileargname)"
   ]
  },
  {
   "cell_type": "code",
   "execution_count": 12,
   "metadata": {},
   "outputs": [
    {
     "data": {
      "text/plain": [
       "'/scratch1/hornung/testsimujobx/x_divided_by_y.sh'"
      ]
     },
     "execution_count": 12,
     "metadata": {},
     "output_type": "execute_result"
    }
   ],
   "source": [
    "thejob.remotejobscriptname"
   ]
  },
  {
   "cell_type": "code",
   "execution_count": 13,
   "metadata": {
    "scrolled": true
   },
   "outputs": [],
   "source": [
    "thejob.create_all_files()"
   ]
  },
  {
   "cell_type": "code",
   "execution_count": 14,
   "metadata": {
    "scrolled": true
   },
   "outputs": [
    {
     "name": "stderr",
     "output_type": "stream",
     "text": [
      "/home/manes/.local/lib/python3.6/site-packages/paramiko/ecdsakey.py:164: CryptographyDeprecationWarning: Support for unsafe construction of public numbers from encoded data will be removed in a future version. Please use EllipticCurvePublicKey.from_encoded_point\n",
      "  self.ecdsa_curve.curve_class(), pointinfo\n",
      "/home/manes/.local/lib/python3.6/site-packages/paramiko/kex_ecdh_nist.py:39: CryptographyDeprecationWarning: encode_point has been deprecated on EllipticCurvePublicNumbers and will be removed in a future version. Please use EllipticCurvePublicKey.public_bytes to obtain both compressed and uncompressed point encoding.\n",
      "  m.add_string(self.Q_C.public_numbers().encode_point())\n",
      "/home/manes/.local/lib/python3.6/site-packages/paramiko/kex_ecdh_nist.py:96: CryptographyDeprecationWarning: Support for unsafe construction of public numbers from encoded data will be removed in a future version. Please use EllipticCurvePublicKey.from_encoded_point\n",
      "  self.curve, Q_S_bytes\n",
      "/home/manes/.local/lib/python3.6/site-packages/paramiko/kex_ecdh_nist.py:111: CryptographyDeprecationWarning: encode_point has been deprecated on EllipticCurvePublicNumbers and will be removed in a future version. Please use EllipticCurvePublicKey.public_bytes to obtain both compressed and uncompressed point encoding.\n",
      "  hm.add_string(self.Q_C.public_numbers().encode_point())\n"
     ]
    },
    {
     "name": "stdout",
     "output_type": "stream",
     "text": [
      "<paramiko.ChannelFile from <paramiko.Channel 0 (open) window=2097152 -> <paramiko.Transport at 0xb27af9e8 (cipher aes128-ctr, 128 bits) (active; 1 open channel(s))>>> <paramiko.ChannelFile from <paramiko.Channel 0 (open) window=2097152 -> <paramiko.Transport at 0xb27af9e8 (cipher aes128-ctr, 128 bits) (active; 1 open channel(s))>>>\n",
      "<paramiko.ChannelFile from <paramiko.Channel 0 (open) window=2097152 -> <paramiko.Transport at 0xb27af9e8 (cipher aes128-ctr, 128 bits) (active; 1 open channel(s))>>>\n"
     ]
    }
   ],
   "source": [
    "thejob.run()"
   ]
  },
  {
   "cell_type": "markdown",
   "metadata": {},
   "source": [
    "### Retrieve the data"
   ]
  },
  {
   "cell_type": "code",
   "execution_count": 15,
   "metadata": {},
   "outputs": [],
   "source": [
    "results = thejob.retrieve_data()"
   ]
  },
  {
   "cell_type": "markdown",
   "metadata": {},
   "source": [
    "Now we have the results as a handy n-dimensional xarray with named dimensions. \n",
    "For postprocessing with another program, we can store the data in a single netcdf file, that can be read\n",
    "by mathematica, matlab, etc"
   ]
  },
  {
   "cell_type": "code",
   "execution_count": null,
   "metadata": {},
   "outputs": [],
   "source": [
    "r.to_netcdf(path='/path/to/save/file.nc')\n"
   ]
  },
  {
   "cell_type": "code",
   "execution_count": 22,
   "metadata": {},
   "outputs": [
    {
     "data": {
      "text/plain": [
       "<xarray.DataArray 'obs1' (x: 9, y: 7)>\n",
       "array([[0.006086, 0.003953, 0.002828, 0.002152, 0.001707, 0.001398, 0.001171],\n",
       "       [0.017213, 0.01118 , 0.008   , 0.006086, 0.004829, 0.003953, 0.003313],\n",
       "       [0.031623, 0.02054 , 0.014697, 0.01118 , 0.008872, 0.007262, 0.006086],\n",
       "       [0.048686, 0.031623, 0.022627, 0.017213, 0.01366 , 0.01118 , 0.00937 ],\n",
       "       [0.068041, 0.044194, 0.031623, 0.024056, 0.01909 , 0.015625, 0.013095],\n",
       "       [0.089443, 0.058095, 0.041569, 0.031623, 0.025095, 0.02054 , 0.017213],\n",
       "       [0.112711, 0.073208, 0.052383, 0.039849, 0.031623, 0.025883, 0.021691],\n",
       "       [0.137706, 0.089443, 0.064   , 0.048686, 0.038636, 0.031623, 0.026502],\n",
       "       [0.164317, 0.106727, 0.076368, 0.058095, 0.046102, 0.037734, 0.031623]])\n",
       "Coordinates:\n",
       "    i        int32 1\n",
       "  * x        (x) float64 0.1 0.2 0.3 0.4 0.5 0.6 0.7 0.8 0.9\n",
       "  * y        (y) int64 3 4 5 6 7 8 9"
      ]
     },
     "execution_count": 22,
     "metadata": {},
     "output_type": "execute_result"
    }
   ],
   "source": [
    "results['obs1'].sel(i=1)"
   ]
  },
  {
   "cell_type": "code",
   "execution_count": 26,
   "metadata": {},
   "outputs": [
    {
     "data": {
      "image/png": "[encoded data removed]",
      "text/plain": [
       "<Figure size 432x288 with 2 Axes>"
      ]
     },
     "metadata": {
      "needs_background": "light"
     },
     "output_type": "display_data"
    },
    {
     "data": {
      "image/png": "[encoded data removed]",
      "text/plain": [
       "<Figure size 432x288 with 1 Axes>"
      ]
     },
     "metadata": {
      "needs_background": "light"
     },
     "output_type": "display_data"
    }
   ],
   "source": [
    "results['obs1'].sel(i=3).plot()\n",
    "plt.show()\n",
    "results['obs1'].sel(i=2,y=[4,6]).plot.line(x='x')\n",
    "plt.show()\n",
    "#print(results)"
   ]
  }
 ],
 "metadata": {
  "hide_input": false,
  "kernelspec": {
   "display_name": "Python 3",
   "language": "python",
   "name": "python3"
  },
  "language_info": {
   "codemirror_mode": {
    "name": "ipython",
    "version": 3
   },
   "file_extension": ".py",
   "mimetype": "text/x-python",
   "name": "python",
   "nbconvert_exporter": "python",
   "pygments_lexer": "ipython3",
   "version": "3.6.7"
  }
 },
 "nbformat": 4,
 "nbformat_minor": 2
}
