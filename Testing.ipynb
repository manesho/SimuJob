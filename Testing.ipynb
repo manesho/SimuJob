{
 "cells": [
  {
   "cell_type": "code",
   "execution_count": 115,
   "metadata": {},
   "outputs": [
    {
     "data": {
      "text/plain": [
       "<module 'SimuJob' from '/home/hornung/projects/SimuJob/SimuJob.py'>"
      ]
     },
     "execution_count": 115,
     "metadata": {},
     "output_type": "execute_result"
    }
   ],
   "source": [
    "import importlib as imp\n",
    "import itertools as it\n",
    "import SimuJob as simj\n",
    "imp.reload(simj)"
   ]
  },
  {
   "cell_type": "code",
   "execution_count": 116,
   "metadata": {},
   "outputs": [],
   "source": [
    "tj=simj.MatrixJob(arrayargs={'a':[1,2,3],'b':[1,2]}, constargs={'c':1, 'd':2})"
   ]
  },
  {
   "cell_type": "code",
   "execution_count": 124,
   "metadata": {},
   "outputs": [
    {
     "name": "stdout",
     "output_type": "stream",
     "text": [
      "Help on module SimuJob:\n",
      "\n",
      "NAME\n",
      "    SimuJob - SimuJob Module\n",
      "\n",
      "DESCRIPTION\n",
      "    A flexible tool to create and launch jobs and retrieve data on a SGE cluster.\n",
      "    \n",
      "    provides the SimulationJob class.\n",
      "\n",
      "CLASSES\n",
      "    builtins.object\n",
      "        Cluster\n",
      "        MatrixJob\n",
      "    \n",
      "    class Cluster(builtins.object)\n",
      "     |  Manages the communication to the cluster via ssh\n",
      "     |  \n",
      "     |  Args:\n",
      "     |          username (str):         The username to log in via ssh\n",
      "     |          clustername(str):       The name of the cluster to log in via ssh\n",
      "     |  \n",
      "     |  Attributes:\n",
      "     |          username (str):         The username to log in via ssh\n",
      "     |          clustername(str):       The name of the cluster to log in via ssh\n",
      "     |  \n",
      "     |  Methods defined here:\n",
      "     |  \n",
      "     |  __init__(self, username='hornung', clustername='itpwilson')\n",
      "     |      Initialize self.  See help(type(self)) for accurate signature.\n",
      "     |  \n",
      "     |  submit(self, jobscriptname)\n",
      "     |      Submits a job to the cluster, the job is executed from the\n",
      "     |              location where the jobscrit is.\n",
      "     |      \n",
      "     |      Args:\n",
      "     |              jobscriptname (str): The full path to the jobscript that is submitted to \n",
      "     |                                                              the cluster via qsub\n",
      "     |  \n",
      "     |  ----------------------------------------------------------------------\n",
      "     |  Data descriptors defined here:\n",
      "     |  \n",
      "     |  __dict__\n",
      "     |      dictionary for instance variables (if defined)\n",
      "     |  \n",
      "     |  __weakref__\n",
      "     |      list of weak references to the object (if defined)\n",
      "    \n",
      "    class MatrixJob(builtins.object)\n",
      "     |  The main Class in this module. \n",
      "     |  \n",
      "     |  Args:\n",
      "     |          name (str):                     The Job name on the SGE\n",
      "     |          folder (str):           The folder the job files are generated in, assumed to\n",
      "     |                                                  be on a device mounted on both, the cluster and the \n",
      "     |                                                  current machine.\n",
      "     |  \n",
      "     |          arrayargs (dict):       A dictionary of the form {'parname': [parvalue1,parvalue2, ...], ...}\n",
      "     |                                                  The job will start a simulation for all combinations of parameters\n",
      "     |                                                  specified here.\n",
      "     |  \n",
      "     |          constargs (dict):   A dictionary of the form {'parname':parvalue ,...} \n",
      "     |                                                  All parameters specified here will be used by all simulations launched\n",
      "     |                                                  by this job.\n",
      "     |  \n",
      "     |          workingcluster (Cluster):  A cluster object, to manage communication with the cluster \n",
      "     |  \n",
      "     |          dependencies (list): A list of full paths to all files required by the simulation job\n",
      "     |  \n",
      "     |  Attributes:\n",
      "     |          jobfilename\n",
      "     |  \n",
      "     |  Methods defined here:\n",
      "     |  \n",
      "     |  __init__(self, folder='', name='run', arrayargs={}, constargs={}, workingcluster=<SimuJob.Cluster object at 0x7f1fd5244080>, dependencies=['/scratch1/hornung/soworm/worm.so', '/home/hornung/projects/sowoworm/pytools/simulator.py', '/home/hornung/projects/soworm/pytools/wormwrap.py', '/home/hornung/projects/soworm/pytools/run.py'])\n",
      "     |      Initialize self.  See help(type(self)) for accurate signature.\n",
      "     |  \n",
      "     |  create_all_files(self)\n",
      "     |      Creates the jobfile, jobdirectory and subdirectories if necessary and copys all other\n",
      "     |      files, that a job debends on.\n",
      "     |  \n",
      "     |  create_launch_file(self)\n",
      "     |  \n",
      "     |  retrieve_data(self)\n",
      "     |      returns the result of the job, combined into a xarray\n",
      "     |      \n",
      "     |      \n",
      "     |      Returns:\n",
      "     |              data, an xarray.dataset containing one dataarray with coordinates specified by\n",
      "     |              arrayargs and attributes specified by  constargs\n",
      "     |  \n",
      "     |  run(self)\n",
      "     |      Launches the job via ssh\n",
      "     |  \n",
      "     |  ----------------------------------------------------------------------\n",
      "     |  Data descriptors defined here:\n",
      "     |  \n",
      "     |  __dict__\n",
      "     |      dictionary for instance variables (if defined)\n",
      "     |  \n",
      "     |  __weakref__\n",
      "     |      list of weak references to the object (if defined)\n",
      "\n",
      "DATA\n",
      "    defaultclustername = 'itpwilson'\n",
      "    defaultdependencies = ['/scratch1/hornung/soworm/worm.so', '/home/horn...\n",
      "    defaultusername = 'hornung'\n",
      "    dependencies = ['/scratch1/hornung/soworm/worm.so', '/home/hornung/pro...\n",
      "    launchfiletemplate = '#!/bin/bash\\n#$-S /bin/sh\\n#$-cwd\\n#$-j yes\\n#$-...\n",
      "    validclusternames = ['itpwilson', 'neumann']\n",
      "\n",
      "FILE\n",
      "    /home/hornung/projects/SimuJob/SimuJob.py\n",
      "\n",
      "\n"
     ]
    }
   ],
   "source": [
    "help(simj)"
   ]
  },
  {
   "cell_type": "code",
   "execution_count": 66,
   "metadata": {},
   "outputs": [],
   "source": [
    "d={'a':[1,2,3],'b':[3,4,5]}\n",
    "fl=zip(*it.product(*d.values()))\n"
   ]
  },
  {
   "cell_type": "code",
   "execution_count": 67,
   "metadata": {},
   "outputs": [
    {
     "data": {
      "text/plain": [
       "{'a': (1, 1, 1, 2, 2, 2, 3, 3, 3), 'b': (3, 4, 5, 3, 4, 5, 3, 4, 5)}"
      ]
     },
     "execution_count": 67,
     "metadata": {},
     "output_type": "execute_result"
    }
   ],
   "source": [
    "{n:v for n,v in zip(d.keys(), list(fl))}"
   ]
  },
  {
   "cell_type": "code",
   "execution_count": 64,
   "metadata": {},
   "outputs": [
    {
     "data": {
      "text/plain": [
       "[('a', (1, 1, 1, 2, 2, 2, 3, 3, 3)), ('b', (3, 4, 5, 3, 4, 5, 3, 4, 5))]"
      ]
     },
     "execution_count": 64,
     "metadata": {},
     "output_type": "execute_result"
    }
   ],
   "source": [
    "list(zip(d.keys(), list(fl)))"
   ]
  },
  {
   "cell_type": "code",
   "execution_count": 45,
   "metadata": {},
   "outputs": [
    {
     "data": {
      "text/plain": [
       "dict_keys(['a', 'b'])"
      ]
     },
     "execution_count": 45,
     "metadata": {},
     "output_type": "execute_result"
    }
   ],
   "source": [
    "d.keys()"
   ]
  },
  {
   "cell_type": "code",
   "execution_count": 54,
   "metadata": {},
   "outputs": [
    {
     "data": {
      "text/plain": [
       "[(1, 1, 1, 2, 2, 2, 3, 3, 3), (3, 4, 5, 3, 4, 5, 3, 4, 5)]"
      ]
     },
     "execution_count": 54,
     "metadata": {},
     "output_type": "execute_result"
    }
   ],
   "source": [
    "list(fl)"
   ]
  },
  {
   "cell_type": "code",
   "execution_count": null,
   "metadata": {},
   "outputs": [],
   "source": []
  }
 ],
 "metadata": {
  "hide_input": false,
  "kernelspec": {
   "display_name": "Python 3",
   "language": "python",
   "name": "python3"
  },
  "language_info": {
   "codemirror_mode": {
    "name": "ipython",
    "version": 3
   },
   "file_extension": ".py",
   "mimetype": "text/x-python",
   "name": "python",
   "nbconvert_exporter": "python",
   "pygments_lexer": "ipython3",
   "version": "3.5.3"
  }
 },
 "nbformat": 4,
 "nbformat_minor": 2
}
